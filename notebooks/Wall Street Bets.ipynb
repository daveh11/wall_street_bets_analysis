{
 "cells": [
  {
   "cell_type": "markdown",
   "metadata": {},
   "source": [
    "# Analysing Wall Street Bets \n",
    "---\n",
    "Below we look at the number of times a stock in mentioned on wall street bets."
   ]
  },
  {
   "cell_type": "markdown",
   "metadata": {},
   "source": [
    "### Imports "
   ]
  },
  {
   "cell_type": "code",
   "execution_count": 1,
   "metadata": {},
   "outputs": [],
   "source": [
    "from IPython.display import HTML\n",
    "\n",
    "HTML('''<script>\n",
    "code_show=true; \n",
    "function code_toggle() {\n",
    " if (code_show){\n",
    " $('div.input').hide();\n",
    " } else {\n",
    " $('div.input').show();\n",
    " }\n",
    " code_show = !code_show\n",
    "} \n",
    "$( document ).ready(code_toggle);\n",
    "</script>\n",
    "<form action=\"javascript:code_toggle()\"><input type=\"submit\" value=\"Click here to toggle on/off the raw code.\"></form>''')"
   ]
  },
  {
   "cell_type": "code",
   "execution_count": 2,
   "metadata": {},
   "outputs": [],
   "source": [
    "import sqlalchemy\n",
    "import psycopg2\n",
    "import psycopg2.extras\n",
    "import datetime\n",
    "\n",
    "import altair as alt\n",
    "import pandas as pd\n",
    "import numpy as np\n",
    "import matplotlib.pyplot as plt\n",
    "import sys\n",
    "\n",
    "import pandas.io.sql as sqlio\n",
    "\n",
    "sys.path.append(\"../\")\n",
    "import config"
   ]
  },
  {
   "cell_type": "markdown",
   "metadata": {},
   "source": [
    "### Connect to DataBase"
   ]
  },
  {
   "cell_type": "code",
   "execution_count": 3,
   "metadata": {},
   "outputs": [],
   "source": [
    "connection = psycopg2.connect(host=config.DB_HOST, database=config.DB_NAME, user=config.DB_USER, password=config.DB_PASS)\n",
    "\n",
    "sql_stock = \"SELECT * FROM stock\"\n",
    "sql_mention = \"SELECT * FROM mention\""
   ]
  },
  {
   "cell_type": "code",
   "execution_count": 4,
   "metadata": {},
   "outputs": [],
   "source": [
    "stocks = sqlio.read_sql_query(sql_stock, connection)\n",
    "mention_df = sqlio.read_sql_query(sql_mention, connection)"
   ]
  },
  {
   "cell_type": "code",
   "execution_count": 5,
   "metadata": {},
   "outputs": [],
   "source": [
    "stocks = stocks[stocks.symbol.str.len() > 2]"
   ]
  },
  {
   "cell_type": "code",
   "execution_count": 6,
   "metadata": {},
   "outputs": [
    {
     "data": {
      "text/html": [
       "<div>\n",
       "<style scoped>\n",
       "    .dataframe tbody tr th:only-of-type {\n",
       "        vertical-align: middle;\n",
       "    }\n",
       "\n",
       "    .dataframe tbody tr th {\n",
       "        vertical-align: top;\n",
       "    }\n",
       "\n",
       "    .dataframe thead th {\n",
       "        text-align: right;\n",
       "    }\n",
       "</style>\n",
       "<table border=\"1\" class=\"dataframe\">\n",
       "  <thead>\n",
       "    <tr style=\"text-align: right;\">\n",
       "      <th></th>\n",
       "      <th>stock_id</th>\n",
       "      <th>dt</th>\n",
       "      <th>message</th>\n",
       "      <th>source</th>\n",
       "      <th>url</th>\n",
       "    </tr>\n",
       "  </thead>\n",
       "  <tbody>\n",
       "    <tr>\n",
       "      <th>0</th>\n",
       "      <td>6541</td>\n",
       "      <td>2021-02-14 18:24:08</td>\n",
       "      <td>Unilever $UL - Why this oversold boomer stock ...</td>\n",
       "      <td>wallstreetbets</td>\n",
       "      <td>https://www.reddit.com/r/wallstreetbets/commen...</td>\n",
       "    </tr>\n",
       "  </tbody>\n",
       "</table>\n",
       "</div>"
      ],
      "text/plain": [
       "   stock_id                  dt  \\\n",
       "0      6541 2021-02-14 18:24:08   \n",
       "\n",
       "                                             message          source  \\\n",
       "0  Unilever $UL - Why this oversold boomer stock ...  wallstreetbets   \n",
       "\n",
       "                                                 url  \n",
       "0  https://www.reddit.com/r/wallstreetbets/commen...  "
      ]
     },
     "execution_count": 6,
     "metadata": {},
     "output_type": "execute_result"
    }
   ],
   "source": [
    "mention_df.head(1)"
   ]
  },
  {
   "cell_type": "markdown",
   "metadata": {},
   "source": [
    "### Mentions Analysis"
   ]
  },
  {
   "cell_type": "code",
   "execution_count": 7,
   "metadata": {},
   "outputs": [
    {
     "name": "stdout",
     "output_type": "stream",
     "text": [
      "The dataset starts at 2021-02-07 23:23:20 and ends at 2021-02-18 12:44:10\n",
      "The Total number of mentions we see: 7181\n",
      "The Total number of stocks mentioned: 755\n"
     ]
    }
   ],
   "source": [
    "print(\"The dataset starts at {} and ends at {}\".format(mention_df.dt.min(), mention_df.dt.max()))\n",
    "print(\"The Total number of mentions we see: {}\".format(mention_df.shape[0]))\n",
    "print(\"The Total number of stocks mentioned: {}\".format(mention_df.stock_id.nunique()))"
   ]
  },
  {
   "cell_type": "code",
   "execution_count": 8,
   "metadata": {},
   "outputs": [
    {
     "data": {
      "text/html": [
       "<div>\n",
       "<style scoped>\n",
       "    .dataframe tbody tr th:only-of-type {\n",
       "        vertical-align: middle;\n",
       "    }\n",
       "\n",
       "    .dataframe tbody tr th {\n",
       "        vertical-align: top;\n",
       "    }\n",
       "\n",
       "    .dataframe thead th {\n",
       "        text-align: right;\n",
       "    }\n",
       "</style>\n",
       "<table border=\"1\" class=\"dataframe\">\n",
       "  <thead>\n",
       "    <tr style=\"text-align: right;\">\n",
       "      <th></th>\n",
       "      <th>id</th>\n",
       "      <th>symbol</th>\n",
       "      <th>name</th>\n",
       "      <th>country</th>\n",
       "      <th>sector</th>\n",
       "      <th>industry</th>\n",
       "      <th>exchange</th>\n",
       "    </tr>\n",
       "  </thead>\n",
       "  <tbody>\n",
       "    <tr>\n",
       "      <th>0</th>\n",
       "      <td>1</td>\n",
       "      <td>AACG</td>\n",
       "      <td>ATA Creativity Global American Depositary Shares</td>\n",
       "      <td>China</td>\n",
       "      <td>Consumer Services</td>\n",
       "      <td>Other Consumer Services</td>\n",
       "      <td>NASDAQ</td>\n",
       "    </tr>\n",
       "  </tbody>\n",
       "</table>\n",
       "</div>"
      ],
      "text/plain": [
       "   id symbol                                              name country  \\\n",
       "0   1   AACG  ATA Creativity Global American Depositary Shares   China   \n",
       "\n",
       "              sector                 industry exchange  \n",
       "0  Consumer Services  Other Consumer Services   NASDAQ  "
      ]
     },
     "execution_count": 8,
     "metadata": {},
     "output_type": "execute_result"
    }
   ],
   "source": [
    "stocks.head(1)"
   ]
  },
  {
   "cell_type": "code",
   "execution_count": 9,
   "metadata": {},
   "outputs": [
    {
     "name": "stdout",
     "output_type": "stream",
     "text": [
      "stocks shape: (7026, 7)\n",
      "mentions shape: (7181, 5)\n"
     ]
    }
   ],
   "source": [
    "print('stocks shape: {}'.format(stocks.shape))\n",
    "print('mentions shape: {}'.format(mention_df.shape))"
   ]
  },
  {
   "cell_type": "code",
   "execution_count": 10,
   "metadata": {},
   "outputs": [],
   "source": [
    "df = pd.merge(mention_df, stocks, how='left', left_on='stock_id', right_on='id')"
   ]
  },
  {
   "cell_type": "code",
   "execution_count": 11,
   "metadata": {},
   "outputs": [],
   "source": [
    "aggs = df.symbol.value_counts().to_frame()"
   ]
  },
  {
   "cell_type": "code",
   "execution_count": 12,
   "metadata": {},
   "outputs": [
    {
     "data": {
      "image/png": "[encoded data removed]",
      "text/plain": [
       "<Figure size 1440x720 with 1 Axes>"
      ]
     },
     "metadata": {
      "needs_background": "light"
     },
     "output_type": "display_data"
    }
   ],
   "source": [
    "fig, ax = plt.subplots(figsize=(20,10))\n",
    "ax.barh(aggs.iloc[:20].index, aggs.iloc[:20].symbol)\n",
    "ax.set_xlabel('Ticker Mention Count')\n",
    "ax.set_title('Top 20 Mentioned Stocks', size=20)\n",
    "plt.show()"
   ]
  },
  {
   "cell_type": "code",
   "execution_count": 13,
   "metadata": {},
   "outputs": [],
   "source": [
    "df['date'] = df['dt'].dt.date"
   ]
  },
  {
   "cell_type": "code",
   "execution_count": 14,
   "metadata": {},
   "outputs": [],
   "source": [
    "aggregation_df = df.groupby(['date', 'symbol']).agg({'message': 'count'}).rename(columns={'message': 'mention_count'})"
   ]
  },
  {
   "cell_type": "code",
   "execution_count": 15,
   "metadata": {},
   "outputs": [],
   "source": [
    "brush = alt.selection_interval()"
   ]
  },
  {
   "cell_type": "code",
   "execution_count": 16,
   "metadata": {},
   "outputs": [],
   "source": [
    "aggregation_df = aggregation_df.reset_index()\n",
    "\n",
    "aggregation_df.sort_values(by='date', inplace=True)\n",
    "\n",
    "aggregation_df['date']= pd.to_datetime(aggregation_df['date'])"
   ]
  },
  {
   "cell_type": "markdown",
   "metadata": {},
   "source": [
    "# Total Number of Mentions over time"
   ]
  },
  {
   "cell_type": "code",
   "execution_count": 17,
   "metadata": {},
   "outputs": [],
   "source": [
    "def plot_mentions_over_time(df):\n",
    "    brush = alt.selection_interval()\n",
    "\n",
    "    mention_chart = alt.Chart(df).mark_line(point=True).encode(\n",
    "                alt.X('date:T', ),\n",
    "                alt.Y('mention_count:Q'),\n",
    "                alt.Color('symbol:N')\n",
    "    ).properties(\n",
    "                width=800,\n",
    "                height=400,\n",
    "    ).add_selection(\n",
    "                brush,\n",
    "\n",
    "    )\n",
    "\n",
    "    aggregation = alt.Chart(df).mark_rect().encode(\n",
    "                alt.X('sum(mention_count):Q', sort='ascending'),\n",
    "                alt.Y('symbol:N'),\n",
    "                alt.Color('symbol:N')\n",
    "    ).properties(\n",
    "                width=800,\n",
    "                height=200,\n",
    "    ).transform_filter(\n",
    "                brush\n",
    "            )\n",
    "\n",
    "    return mention_chart & aggregation"
   ]
  },
  {
   "cell_type": "code",
   "execution_count": 18,
   "metadata": {},
   "outputs": [
    {
     "data": {
      "text/html": [
       "\n",
       "<div id=\"altair-viz-abede8fb16fd429bbac571b457af1d33\"></div>\n",
       "<script type=\"text/javascript\">\n",
       "  (function(spec, embedOpt){\n",
       "    let outputDiv = document.currentScript.previousElementSibling;\n",
       "    if (outputDiv.id !== \"altair-viz-abede8fb16fd429bbac571b457af1d33\") {\n",
       "      outputDiv = document.getElementById(\"altair-viz-abede8fb16fd429bbac571b457af1d33\");\n",
       "    }\n",
       "    const paths = {\n",
       "      \"vega\": \"https://cdn.jsdelivr.net/npm//vega@5?noext\",\n",
       "      \"vega-lib\": \"https://cdn.jsdelivr.net/npm//vega-lib?noext\",\n",
       "      \"vega-lite\": \"https://cdn.jsdelivr.net/npm//vega-lite@4.8.1?noext\",\n",
       "      \"vega-embed\": \"https://cdn.jsdelivr.net/npm//vega-embed@6?noext\",\n",
       "    };\n",
       "\n",
       "    function loadScript(lib) {\n",
       "      return new Promise(function(resolve, reject) {\n",
       "        var s = document.createElement('script');\n",
       "        s.src = paths[lib];\n",
       "        s.async = true;\n",
       "        s.onload = () => resolve(paths[lib]);\n",
       "        s.onerror = () => reject(`Error loading script: ${paths[lib]}`);\n",
       "        document.getElementsByTagName(\"head\")[0].appendChild(s);\n",
       "      });\n",
       "    }\n",
       "\n",
       "    function showError(err) {\n",
       "      outputDiv.innerHTML = `<div class=\"error\" style=\"color:red;\">${err}</div>`;\n",
       "      throw err;\n",
       "    }\n",
       "\n",
       "    function displayChart(vegaEmbed) {\n",
       "      vegaEmbed(outputDiv, spec, embedOpt)\n",
       "        .catch(err => showError(`Javascript Error: ${err.message}<br>This usually means there's a typo in your chart specification. See the javascript console for the full traceback.`));\n",
       "    }\n",
       "\n",
       "    if(typeof define === \"function\" && define.amd) {\n",
       "      requirejs.config({paths});\n",
       "      require([\"vega-embed\"], displayChart, err => showError(`Error loading script: ${err.message}`));\n",
       "    } else if (typeof vegaEmbed === \"function\") {\n",
       "      displayChart(vegaEmbed);\n",
       "    } else {\n",
       "      loadScript(\"vega\")\n",
       "        .then(() => loadScript(\"vega-lite\"))\n",
       "        .then(() => loadScript(\"vega-embed\"))\n",
       "        .catch(showError)\n",
       "        .then(() => displayChart(vegaEmbed));\n",
       "    }\n",
       "  })({\"config\": {\"view\": {\"continuousWidth\": 400, \"continuousHeight\": 300}}, \"vconcat\": [{\"mark\": {\"type\": \"line\", \"point\": true}, \"encoding\": {\"color\": {\"type\": \"nominal\", \"field\": \"symbol\"}, \"x\": {\"type\": \"temporal\", \"field\": \"date\"}, \"y\": {\"type\": \"quantitative\", \"field\": \"mention_count\"}}, \"height\": 400, \"selection\": {\"selector002\": {\"type\": \"interval\"}}, \"width\": 800}, {\"mark\": \"rect\", \"encoding\": {\"color\": {\"type\": \"nominal\", \"field\": \"symbol\"}, \"x\": {\"type\": \"quantitative\", \"aggregate\": \"sum\", \"field\": \"mention_count\", \"sort\": \"ascending\"}, \"y\": {\"type\": \"nominal\", \"field\": \"symbol\"}}, \"height\": 200, \"transform\": [{\"filter\": {\"selection\": \"selector002\"}}], \"width\": 800}], \"data\": {\"name\": \"data-55c88e2e5dbad54e3f8a4a6f61863aff\"}, \"$schema\": \"https://vega.github.io/schema/vega-lite/v4.8.1.json\", \"datasets\": {\"data-55c88e2e5dbad54e3f8a4a6f61863aff\": [{\"date\": \"2021-02-07T00:00:00\", \"symbol\": \"BB\", \"mention_count\": 3}, {\"date\": \"2021-02-07T00:00:00\", \"symbol\": \"GME\", \"mention_count\": 4}, {\"date\": \"2021-02-08T00:00:00\", \"symbol\": \"PLTR\", \"mention_count\": 6}, {\"date\": \"2021-02-08T00:00:00\", \"symbol\": \"OCGN\", \"mention_count\": 30}, {\"date\": \"2021-02-08T00:00:00\", \"symbol\": \"ZOM\", \"mention_count\": 18}, {\"date\": \"2021-02-08T00:00:00\", \"symbol\": \"TLRY\", \"mention_count\": 2}, {\"date\": \"2021-02-08T00:00:00\", \"symbol\": \"SNDL\", \"mention_count\": 10}, {\"date\": \"2021-02-08T00:00:00\", \"symbol\": \"CTRM\", \"mention_count\": 7}, {\"date\": \"2021-02-08T00:00:00\", \"symbol\": \"BB\", \"mention_count\": 14}, {\"date\": \"2021-02-08T00:00:00\", \"symbol\": \"AMC\", \"mention_count\": 34}, {\"date\": \"2021-02-08T00:00:00\", \"symbol\": \"APHA\", \"mention_count\": 2}, {\"date\": \"2021-02-08T00:00:00\", \"symbol\": \"GME\", \"mention_count\": 80}, {\"date\": \"2021-02-09T00:00:00\", \"symbol\": \"PLTR\", \"mention_count\": 6}, {\"date\": \"2021-02-09T00:00:00\", \"symbol\": \"OCGN\", \"mention_count\": 12}, {\"date\": \"2021-02-09T00:00:00\", \"symbol\": \"ZOM\", \"mention_count\": 12}, {\"date\": \"2021-02-09T00:00:00\", \"symbol\": \"SNDL\", \"mention_count\": 20}, {\"date\": \"2021-02-09T00:00:00\", \"symbol\": \"TLRY\", \"mention_count\": 41}, {\"date\": \"2021-02-09T00:00:00\", \"symbol\": \"BB\", \"mention_count\": 15}, {\"date\": \"2021-02-09T00:00:00\", \"symbol\": \"AMC\", \"mention_count\": 53}, {\"date\": \"2021-02-09T00:00:00\", \"symbol\": \"APHA\", \"mention_count\": 13}, {\"date\": \"2021-02-09T00:00:00\", \"symbol\": \"CTRM\", \"mention_count\": 8}, {\"date\": \"2021-02-09T00:00:00\", \"symbol\": \"GME\", \"mention_count\": 98}, {\"date\": \"2021-02-10T00:00:00\", \"symbol\": \"OCGN\", \"mention_count\": 1}, {\"date\": \"2021-02-10T00:00:00\", \"symbol\": \"PLTR\", \"mention_count\": 1}, {\"date\": \"2021-02-10T00:00:00\", \"symbol\": \"ZOM\", \"mention_count\": 5}, {\"date\": \"2021-02-10T00:00:00\", \"symbol\": \"SNDL\", \"mention_count\": 154}, {\"date\": \"2021-02-10T00:00:00\", \"symbol\": \"TLRY\", \"mention_count\": 74}, {\"date\": \"2021-02-10T00:00:00\", \"symbol\": \"BB\", \"mention_count\": 18}, {\"date\": \"2021-02-10T00:00:00\", \"symbol\": \"CTRM\", \"mention_count\": 11}, {\"date\": \"2021-02-10T00:00:00\", \"symbol\": \"AMC\", \"mention_count\": 34}, {\"date\": \"2021-02-10T00:00:00\", \"symbol\": \"APHA\", \"mention_count\": 37}, {\"date\": \"2021-02-10T00:00:00\", \"symbol\": \"GME\", \"mention_count\": 84}, {\"date\": \"2021-02-11T00:00:00\", \"symbol\": \"PLTR\", \"mention_count\": 6}, {\"date\": \"2021-02-11T00:00:00\", \"symbol\": \"OCGN\", \"mention_count\": 3}, {\"date\": \"2021-02-11T00:00:00\", \"symbol\": \"ZOM\", \"mention_count\": 11}, {\"date\": \"2021-02-11T00:00:00\", \"symbol\": \"SNDL\", \"mention_count\": 132}, {\"date\": \"2021-02-11T00:00:00\", \"symbol\": \"TLRY\", \"mention_count\": 38}, {\"date\": \"2021-02-11T00:00:00\", \"symbol\": \"BB\", \"mention_count\": 12}, {\"date\": \"2021-02-11T00:00:00\", \"symbol\": \"APHA\", \"mention_count\": 23}, {\"date\": \"2021-02-11T00:00:00\", \"symbol\": \"AMC\", \"mention_count\": 25}, {\"date\": \"2021-02-11T00:00:00\", \"symbol\": \"GME\", \"mention_count\": 69}, {\"date\": \"2021-02-11T00:00:00\", \"symbol\": \"CTRM\", \"mention_count\": 28}, {\"date\": \"2021-02-12T00:00:00\", \"symbol\": \"OCGN\", \"mention_count\": 2}, {\"date\": \"2021-02-12T00:00:00\", \"symbol\": \"PLTR\", \"mention_count\": 10}, {\"date\": \"2021-02-12T00:00:00\", \"symbol\": \"ZOM\", \"mention_count\": 7}, {\"date\": \"2021-02-12T00:00:00\", \"symbol\": \"TLRY\", \"mention_count\": 8}, {\"date\": \"2021-02-12T00:00:00\", \"symbol\": \"SNDL\", \"mention_count\": 32}, {\"date\": \"2021-02-12T00:00:00\", \"symbol\": \"CTRM\", \"mention_count\": 7}, {\"date\": \"2021-02-12T00:00:00\", \"symbol\": \"BB\", \"mention_count\": 9}, {\"date\": \"2021-02-12T00:00:00\", \"symbol\": \"AMC\", \"mention_count\": 20}, {\"date\": \"2021-02-12T00:00:00\", \"symbol\": \"APHA\", \"mention_count\": 3}, {\"date\": \"2021-02-12T00:00:00\", \"symbol\": \"GME\", \"mention_count\": 56}, {\"date\": \"2021-02-13T00:00:00\", \"symbol\": \"PLTR\", \"mention_count\": 2}, {\"date\": \"2021-02-13T00:00:00\", \"symbol\": \"OCGN\", \"mention_count\": 1}, {\"date\": \"2021-02-13T00:00:00\", \"symbol\": \"TLRY\", \"mention_count\": 3}, {\"date\": \"2021-02-13T00:00:00\", \"symbol\": \"SNDL\", \"mention_count\": 9}, {\"date\": \"2021-02-13T00:00:00\", \"symbol\": \"ZOM\", \"mention_count\": 2}, {\"date\": \"2021-02-13T00:00:00\", \"symbol\": \"BB\", \"mention_count\": 6}, {\"date\": \"2021-02-13T00:00:00\", \"symbol\": \"APHA\", \"mention_count\": 6}, {\"date\": \"2021-02-13T00:00:00\", \"symbol\": \"AMC\", \"mention_count\": 9}, {\"date\": \"2021-02-13T00:00:00\", \"symbol\": \"GME\", \"mention_count\": 19}, {\"date\": \"2021-02-13T00:00:00\", \"symbol\": \"CTRM\", \"mention_count\": 2}, {\"date\": \"2021-02-14T00:00:00\", \"symbol\": \"ZOM\", \"mention_count\": 2}, {\"date\": \"2021-02-14T00:00:00\", \"symbol\": \"TLRY\", \"mention_count\": 1}, {\"date\": \"2021-02-14T00:00:00\", \"symbol\": \"SNDL\", \"mention_count\": 13}, {\"date\": \"2021-02-14T00:00:00\", \"symbol\": \"GME\", \"mention_count\": 29}, {\"date\": \"2021-02-14T00:00:00\", \"symbol\": \"AMC\", \"mention_count\": 12}, {\"date\": \"2021-02-14T00:00:00\", \"symbol\": \"BB\", \"mention_count\": 2}, {\"date\": \"2021-02-15T00:00:00\", \"symbol\": \"PLTR\", \"mention_count\": 1}, {\"date\": \"2021-02-15T00:00:00\", \"symbol\": \"SNDL\", \"mention_count\": 5}, {\"date\": \"2021-02-15T00:00:00\", \"symbol\": \"BB\", \"mention_count\": 2}, {\"date\": \"2021-02-15T00:00:00\", \"symbol\": \"AMC\", \"mention_count\": 10}, {\"date\": \"2021-02-15T00:00:00\", \"symbol\": \"GME\", \"mention_count\": 19}, {\"date\": \"2021-02-16T00:00:00\", \"symbol\": \"PLTR\", \"mention_count\": 12}, {\"date\": \"2021-02-16T00:00:00\", \"symbol\": \"OCGN\", \"mention_count\": 4}, {\"date\": \"2021-02-16T00:00:00\", \"symbol\": \"SNDL\", \"mention_count\": 5}, {\"date\": \"2021-02-16T00:00:00\", \"symbol\": \"TLRY\", \"mention_count\": 2}, {\"date\": \"2021-02-16T00:00:00\", \"symbol\": \"APHA\", \"mention_count\": 1}, {\"date\": \"2021-02-16T00:00:00\", \"symbol\": \"AMC\", \"mention_count\": 4}, {\"date\": \"2021-02-16T00:00:00\", \"symbol\": \"CTRM\", \"mention_count\": 1}, {\"date\": \"2021-02-16T00:00:00\", \"symbol\": \"GME\", \"mention_count\": 12}, {\"date\": \"2021-02-17T00:00:00\", \"symbol\": \"PLTR\", \"mention_count\": 4}, {\"date\": \"2021-02-17T00:00:00\", \"symbol\": \"TLRY\", \"mention_count\": 3}, {\"date\": \"2021-02-17T00:00:00\", \"symbol\": \"OCGN\", \"mention_count\": 1}, {\"date\": \"2021-02-17T00:00:00\", \"symbol\": \"SNDL\", \"mention_count\": 2}, {\"date\": \"2021-02-17T00:00:00\", \"symbol\": \"AMC\", \"mention_count\": 3}, {\"date\": \"2021-02-17T00:00:00\", \"symbol\": \"BB\", \"mention_count\": 1}, {\"date\": \"2021-02-17T00:00:00\", \"symbol\": \"GME\", \"mention_count\": 11}, {\"date\": \"2021-02-18T00:00:00\", \"symbol\": \"OCGN\", \"mention_count\": 2}, {\"date\": \"2021-02-18T00:00:00\", \"symbol\": \"PLTR\", \"mention_count\": 6}, {\"date\": \"2021-02-18T00:00:00\", \"symbol\": \"TLRY\", \"mention_count\": 1}, {\"date\": \"2021-02-18T00:00:00\", \"symbol\": \"AMC\", \"mention_count\": 2}, {\"date\": \"2021-02-18T00:00:00\", \"symbol\": \"APHA\", \"mention_count\": 2}, {\"date\": \"2021-02-18T00:00:00\", \"symbol\": \"GME\", \"mention_count\": 20}]}}, {\"mode\": \"vega-lite\"});\n",
       "</script>"
      ],
      "text/plain": [
       "alt.VConcatChart(...)"
      ]
     },
     "execution_count": 18,
     "metadata": {},
     "output_type": "execute_result"
    }
   ],
   "source": [
    "plot_mentions_over_time(aggregation_df[aggregation_df.symbol.isin(list(aggs.index[:10]))])"
   ]
  },
  {
   "cell_type": "markdown",
   "metadata": {},
   "source": [
    "### Add mention percent changes"
   ]
  },
  {
   "cell_type": "code",
   "execution_count": 19,
   "metadata": {},
   "outputs": [],
   "source": [
    "ticker_list = list(aggregation_df.symbol.unique())\n",
    "\n",
    "for ticker in ticker_list:\n",
    "    \n",
    "    # Daily percent change \n",
    "    aggregation_df.loc[aggregation_df.symbol == ticker, 'daily_pct_change'] = \\\n",
    "    aggregation_df.mention_count[aggregation_df.symbol == ticker].pct_change() * 100\n",
    "    \n",
    "    # 3 day percent change\n",
    "    aggregation_df.loc[aggregation_df.symbol == ticker, 'three_day_pct_change'] = \\\n",
    "    aggregation_df.mention_count[aggregation_df.symbol == ticker].pct_change(3) * 100\n",
    "    \n",
    "    # weekly percent change\n",
    "    aggregation_df.loc[aggregation_df.symbol == ticker, 'weekly_pct_change'] = \\\n",
    "    aggregation_df.mention_count[aggregation_df.symbol == ticker].pct_change(7 ) * 100"
   ]
  },
  {
   "cell_type": "markdown",
   "metadata": {},
   "source": [
    "## Recently Trending Stocks"
   ]
  },
  {
   "cell_type": "markdown",
   "metadata": {},
   "source": [
    "#### One Day Mention Growth Stocks"
   ]
  },
  {
   "cell_type": "code",
   "execution_count": 20,
   "metadata": {},
   "outputs": [],
   "source": [
    "trending_df = aggregation_df[(aggregation_df.date == aggregation_df.date.max()) & \n",
    "              (aggregation_df.daily_pct_change > 0)].sort_values(by='mention_count', ascending=False)"
   ]
  },
  {
   "cell_type": "code",
   "execution_count": 21,
   "metadata": {},
   "outputs": [
    {
     "data": {
      "text/html": [
       "<div>\n",
       "<style scoped>\n",
       "    .dataframe tbody tr th:only-of-type {\n",
       "        vertical-align: middle;\n",
       "    }\n",
       "\n",
       "    .dataframe tbody tr th {\n",
       "        vertical-align: top;\n",
       "    }\n",
       "\n",
       "    .dataframe thead th {\n",
       "        text-align: right;\n",
       "    }\n",
       "</style>\n",
       "<table border=\"1\" class=\"dataframe\">\n",
       "  <thead>\n",
       "    <tr style=\"text-align: right;\">\n",
       "      <th></th>\n",
       "      <th>date</th>\n",
       "      <th>symbol</th>\n",
       "      <th>mention_count</th>\n",
       "      <th>daily_pct_change</th>\n",
       "      <th>three_day_pct_change</th>\n",
       "      <th>weekly_pct_change</th>\n",
       "    </tr>\n",
       "  </thead>\n",
       "  <tbody>\n",
       "    <tr>\n",
       "      <th>1382</th>\n",
       "      <td>2021-02-18</td>\n",
       "      <td>GME</td>\n",
       "      <td>20</td>\n",
       "      <td>81.818182</td>\n",
       "      <td>5.263158</td>\n",
       "      <td>-71.014493</td>\n",
       "    </tr>\n",
       "    <tr>\n",
       "      <th>1393</th>\n",
       "      <td>2021-02-18</td>\n",
       "      <td>PLTR</td>\n",
       "      <td>6</td>\n",
       "      <td>50.000000</td>\n",
       "      <td>500.000000</td>\n",
       "      <td>500.000000</td>\n",
       "    </tr>\n",
       "    <tr>\n",
       "      <th>1394</th>\n",
       "      <td>2021-02-18</td>\n",
       "      <td>PLUG</td>\n",
       "      <td>3</td>\n",
       "      <td>200.000000</td>\n",
       "      <td>0.000000</td>\n",
       "      <td>NaN</td>\n",
       "    </tr>\n",
       "    <tr>\n",
       "      <th>1390</th>\n",
       "      <td>2021-02-18</td>\n",
       "      <td>OCGN</td>\n",
       "      <td>2</td>\n",
       "      <td>100.000000</td>\n",
       "      <td>100.000000</td>\n",
       "      <td>-83.333333</td>\n",
       "    </tr>\n",
       "    <tr>\n",
       "      <th>1403</th>\n",
       "      <td>2021-02-18</td>\n",
       "      <td>TRCH</td>\n",
       "      <td>2</td>\n",
       "      <td>100.000000</td>\n",
       "      <td>-33.333333</td>\n",
       "      <td>NaN</td>\n",
       "    </tr>\n",
       "    <tr>\n",
       "      <th>1368</th>\n",
       "      <td>2021-02-18</td>\n",
       "      <td>APHA</td>\n",
       "      <td>2</td>\n",
       "      <td>100.000000</td>\n",
       "      <td>-33.333333</td>\n",
       "      <td>0.000000</td>\n",
       "    </tr>\n",
       "  </tbody>\n",
       "</table>\n",
       "</div>"
      ],
      "text/plain": [
       "           date symbol  mention_count  daily_pct_change  three_day_pct_change  \\\n",
       "1382 2021-02-18    GME             20         81.818182              5.263158   \n",
       "1393 2021-02-18   PLTR              6         50.000000            500.000000   \n",
       "1394 2021-02-18   PLUG              3        200.000000              0.000000   \n",
       "1390 2021-02-18   OCGN              2        100.000000            100.000000   \n",
       "1403 2021-02-18   TRCH              2        100.000000            -33.333333   \n",
       "1368 2021-02-18   APHA              2        100.000000            -33.333333   \n",
       "\n",
       "      weekly_pct_change  \n",
       "1382         -71.014493  \n",
       "1393         500.000000  \n",
       "1394                NaN  \n",
       "1390         -83.333333  \n",
       "1403                NaN  \n",
       "1368           0.000000  "
      ]
     },
     "execution_count": 21,
     "metadata": {},
     "output_type": "execute_result"
    }
   ],
   "source": [
    "trending_df"
   ]
  },
  {
   "cell_type": "code",
   "execution_count": 22,
   "metadata": {},
   "outputs": [
    {
     "data": {
      "text/html": [
       "\n",
       "<div id=\"altair-viz-3b7d18a477a84916a6b185d8a8cb6b84\"></div>\n",
       "<script type=\"text/javascript\">\n",
       "  (function(spec, embedOpt){\n",
       "    let outputDiv = document.currentScript.previousElementSibling;\n",
       "    if (outputDiv.id !== \"altair-viz-3b7d18a477a84916a6b185d8a8cb6b84\") {\n",
       "      outputDiv = document.getElementById(\"altair-viz-3b7d18a477a84916a6b185d8a8cb6b84\");\n",
       "    }\n",
       "    const paths = {\n",
       "      \"vega\": \"https://cdn.jsdelivr.net/npm//vega@5?noext\",\n",
       "      \"vega-lib\": \"https://cdn.jsdelivr.net/npm//vega-lib?noext\",\n",
       "      \"vega-lite\": \"https://cdn.jsdelivr.net/npm//vega-lite@4.8.1?noext\",\n",
       "      \"vega-embed\": \"https://cdn.jsdelivr.net/npm//vega-embed@6?noext\",\n",
       "    };\n",
       "\n",
       "    function loadScript(lib) {\n",
       "      return new Promise(function(resolve, reject) {\n",
       "        var s = document.createElement('script');\n",
       "        s.src = paths[lib];\n",
       "        s.async = true;\n",
       "        s.onload = () => resolve(paths[lib]);\n",
       "        s.onerror = () => reject(`Error loading script: ${paths[lib]}`);\n",
       "        document.getElementsByTagName(\"head\")[0].appendChild(s);\n",
       "      });\n",
       "    }\n",
       "\n",
       "    function showError(err) {\n",
       "      outputDiv.innerHTML = `<div class=\"error\" style=\"color:red;\">${err}</div>`;\n",
       "      throw err;\n",
       "    }\n",
       "\n",
       "    function displayChart(vegaEmbed) {\n",
       "      vegaEmbed(outputDiv, spec, embedOpt)\n",
       "        .catch(err => showError(`Javascript Error: ${err.message}<br>This usually means there's a typo in your chart specification. See the javascript console for the full traceback.`));\n",
       "    }\n",
       "\n",
       "    if(typeof define === \"function\" && define.amd) {\n",
       "      requirejs.config({paths});\n",
       "      require([\"vega-embed\"], displayChart, err => showError(`Error loading script: ${err.message}`));\n",
       "    } else if (typeof vegaEmbed === \"function\") {\n",
       "      displayChart(vegaEmbed);\n",
       "    } else {\n",
       "      loadScript(\"vega\")\n",
       "        .then(() => loadScript(\"vega-lite\"))\n",
       "        .then(() => loadScript(\"vega-embed\"))\n",
       "        .catch(showError)\n",
       "        .then(() => displayChart(vegaEmbed));\n",
       "    }\n",
       "  })({\"config\": {\"view\": {\"continuousWidth\": 400, \"continuousHeight\": 300}}, \"vconcat\": [{\"mark\": {\"type\": \"line\", \"point\": true}, \"encoding\": {\"color\": {\"type\": \"nominal\", \"field\": \"symbol\"}, \"x\": {\"type\": \"temporal\", \"field\": \"date\"}, \"y\": {\"type\": \"quantitative\", \"field\": \"mention_count\"}}, \"height\": 400, \"selection\": {\"selector003\": {\"type\": \"interval\"}}, \"width\": 800}, {\"mark\": \"rect\", \"encoding\": {\"color\": {\"type\": \"nominal\", \"field\": \"symbol\"}, \"x\": {\"type\": \"quantitative\", \"aggregate\": \"sum\", \"field\": \"mention_count\", \"sort\": \"ascending\"}, \"y\": {\"type\": \"nominal\", \"field\": \"symbol\"}}, \"height\": 200, \"transform\": [{\"filter\": {\"selection\": \"selector003\"}}], \"width\": 800}], \"data\": {\"name\": \"data-5c897ac086944d0592b5192435aa06b3\"}, \"$schema\": \"https://vega.github.io/schema/vega-lite/v4.8.1.json\", \"datasets\": {\"data-5c897ac086944d0592b5192435aa06b3\": [{\"date\": \"2021-02-07T00:00:00\", \"symbol\": \"GME\", \"mention_count\": 4, \"daily_pct_change\": null, \"three_day_pct_change\": null, \"weekly_pct_change\": null}, {\"date\": \"2021-02-08T00:00:00\", \"symbol\": \"PLTR\", \"mention_count\": 6, \"daily_pct_change\": null, \"three_day_pct_change\": null, \"weekly_pct_change\": null}, {\"date\": \"2021-02-08T00:00:00\", \"symbol\": \"OCGN\", \"mention_count\": 30, \"daily_pct_change\": null, \"three_day_pct_change\": null, \"weekly_pct_change\": null}, {\"date\": \"2021-02-08T00:00:00\", \"symbol\": \"APHA\", \"mention_count\": 2, \"daily_pct_change\": null, \"three_day_pct_change\": null, \"weekly_pct_change\": null}, {\"date\": \"2021-02-08T00:00:00\", \"symbol\": \"GME\", \"mention_count\": 80, \"daily_pct_change\": 1900.0, \"three_day_pct_change\": null, \"weekly_pct_change\": null}, {\"date\": \"2021-02-09T00:00:00\", \"symbol\": \"PLTR\", \"mention_count\": 6, \"daily_pct_change\": 0.0, \"three_day_pct_change\": null, \"weekly_pct_change\": null}, {\"date\": \"2021-02-09T00:00:00\", \"symbol\": \"PLUG\", \"mention_count\": 2, \"daily_pct_change\": null, \"three_day_pct_change\": null, \"weekly_pct_change\": null}, {\"date\": \"2021-02-09T00:00:00\", \"symbol\": \"OCGN\", \"mention_count\": 12, \"daily_pct_change\": -60.0, \"three_day_pct_change\": null, \"weekly_pct_change\": null}, {\"date\": \"2021-02-09T00:00:00\", \"symbol\": \"APHA\", \"mention_count\": 13, \"daily_pct_change\": 550.0, \"three_day_pct_change\": null, \"weekly_pct_change\": null}, {\"date\": \"2021-02-09T00:00:00\", \"symbol\": \"GME\", \"mention_count\": 98, \"daily_pct_change\": 22.500000000000007, \"three_day_pct_change\": null, \"weekly_pct_change\": null}, {\"date\": \"2021-02-10T00:00:00\", \"symbol\": \"OCGN\", \"mention_count\": 1, \"daily_pct_change\": -91.66666666666666, \"three_day_pct_change\": null, \"weekly_pct_change\": null}, {\"date\": \"2021-02-10T00:00:00\", \"symbol\": \"PLTR\", \"mention_count\": 1, \"daily_pct_change\": -83.33333333333334, \"three_day_pct_change\": null, \"weekly_pct_change\": null}, {\"date\": \"2021-02-10T00:00:00\", \"symbol\": \"PLUG\", \"mention_count\": 3, \"daily_pct_change\": 50.0, \"three_day_pct_change\": null, \"weekly_pct_change\": null}, {\"date\": \"2021-02-10T00:00:00\", \"symbol\": \"APHA\", \"mention_count\": 37, \"daily_pct_change\": 184.6153846153846, \"three_day_pct_change\": null, \"weekly_pct_change\": null}, {\"date\": \"2021-02-10T00:00:00\", \"symbol\": \"GME\", \"mention_count\": 84, \"daily_pct_change\": -14.28571428571429, \"three_day_pct_change\": 2000.0, \"weekly_pct_change\": null}, {\"date\": \"2021-02-11T00:00:00\", \"symbol\": \"PLTR\", \"mention_count\": 6, \"daily_pct_change\": 500.0, \"three_day_pct_change\": 0.0, \"weekly_pct_change\": null}, {\"date\": \"2021-02-11T00:00:00\", \"symbol\": \"OCGN\", \"mention_count\": 3, \"daily_pct_change\": 200.0, \"three_day_pct_change\": -90.0, \"weekly_pct_change\": null}, {\"date\": \"2021-02-11T00:00:00\", \"symbol\": \"TRCH\", \"mention_count\": 3, \"daily_pct_change\": null, \"three_day_pct_change\": null, \"weekly_pct_change\": null}, {\"date\": \"2021-02-11T00:00:00\", \"symbol\": \"APHA\", \"mention_count\": 23, \"daily_pct_change\": -37.83783783783784, \"three_day_pct_change\": 1050.0, \"weekly_pct_change\": null}, {\"date\": \"2021-02-11T00:00:00\", \"symbol\": \"GME\", \"mention_count\": 69, \"daily_pct_change\": -17.85714285714286, \"three_day_pct_change\": -13.749999999999996, \"weekly_pct_change\": null}, {\"date\": \"2021-02-12T00:00:00\", \"symbol\": \"OCGN\", \"mention_count\": 2, \"daily_pct_change\": -33.333333333333336, \"three_day_pct_change\": -83.33333333333334, \"weekly_pct_change\": null}, {\"date\": \"2021-02-12T00:00:00\", \"symbol\": \"PLTR\", \"mention_count\": 10, \"daily_pct_change\": 66.66666666666667, \"three_day_pct_change\": 66.66666666666667, \"weekly_pct_change\": null}, {\"date\": \"2021-02-12T00:00:00\", \"symbol\": \"APHA\", \"mention_count\": 3, \"daily_pct_change\": -86.95652173913044, \"three_day_pct_change\": -76.92307692307692, \"weekly_pct_change\": null}, {\"date\": \"2021-02-12T00:00:00\", \"symbol\": \"GME\", \"mention_count\": 56, \"daily_pct_change\": -18.840579710144922, \"three_day_pct_change\": -42.85714285714286, \"weekly_pct_change\": null}, {\"date\": \"2021-02-13T00:00:00\", \"symbol\": \"PLTR\", \"mention_count\": 2, \"daily_pct_change\": -80.0, \"three_day_pct_change\": 100.0, \"weekly_pct_change\": null}, {\"date\": \"2021-02-13T00:00:00\", \"symbol\": \"OCGN\", \"mention_count\": 1, \"daily_pct_change\": -50.0, \"three_day_pct_change\": 0.0, \"weekly_pct_change\": null}, {\"date\": \"2021-02-13T00:00:00\", \"symbol\": \"TRCH\", \"mention_count\": 1, \"daily_pct_change\": -66.66666666666667, \"three_day_pct_change\": null, \"weekly_pct_change\": null}, {\"date\": \"2021-02-13T00:00:00\", \"symbol\": \"APHA\", \"mention_count\": 6, \"daily_pct_change\": 100.0, \"three_day_pct_change\": -83.78378378378379, \"weekly_pct_change\": null}, {\"date\": \"2021-02-13T00:00:00\", \"symbol\": \"GME\", \"mention_count\": 19, \"daily_pct_change\": -66.07142857142857, \"three_day_pct_change\": -77.38095238095238, \"weekly_pct_change\": null}, {\"date\": \"2021-02-14T00:00:00\", \"symbol\": \"GME\", \"mention_count\": 29, \"daily_pct_change\": 52.63157894736843, \"three_day_pct_change\": -57.971014492753625, \"weekly_pct_change\": 625.0}, {\"date\": \"2021-02-15T00:00:00\", \"symbol\": \"PLUG\", \"mention_count\": 1, \"daily_pct_change\": -66.66666666666667, \"three_day_pct_change\": null, \"weekly_pct_change\": null}, {\"date\": \"2021-02-15T00:00:00\", \"symbol\": \"PLTR\", \"mention_count\": 1, \"daily_pct_change\": -50.0, \"three_day_pct_change\": -83.33333333333334, \"weekly_pct_change\": null}, {\"date\": \"2021-02-15T00:00:00\", \"symbol\": \"TRCH\", \"mention_count\": 1, \"daily_pct_change\": 0.0, \"three_day_pct_change\": null, \"weekly_pct_change\": null}, {\"date\": \"2021-02-15T00:00:00\", \"symbol\": \"GME\", \"mention_count\": 19, \"daily_pct_change\": -34.48275862068966, \"three_day_pct_change\": -66.07142857142857, \"weekly_pct_change\": -76.25}, {\"date\": \"2021-02-16T00:00:00\", \"symbol\": \"PLTR\", \"mention_count\": 12, \"daily_pct_change\": 1100.0, \"three_day_pct_change\": 19.999999999999996, \"weekly_pct_change\": 100.0}, {\"date\": \"2021-02-16T00:00:00\", \"symbol\": \"OCGN\", \"mention_count\": 4, \"daily_pct_change\": 300.0, \"three_day_pct_change\": 33.33333333333333, \"weekly_pct_change\": null}, {\"date\": \"2021-02-16T00:00:00\", \"symbol\": \"APHA\", \"mention_count\": 1, \"daily_pct_change\": -83.33333333333334, \"three_day_pct_change\": -95.65217391304348, \"weekly_pct_change\": null}, {\"date\": \"2021-02-16T00:00:00\", \"symbol\": \"GME\", \"mention_count\": 12, \"daily_pct_change\": -36.8421052631579, \"three_day_pct_change\": -36.8421052631579, \"weekly_pct_change\": -87.75510204081633}, {\"date\": \"2021-02-17T00:00:00\", \"symbol\": \"PLUG\", \"mention_count\": 1, \"daily_pct_change\": 0.0, \"three_day_pct_change\": -50.0, \"weekly_pct_change\": null}, {\"date\": \"2021-02-17T00:00:00\", \"symbol\": \"PLTR\", \"mention_count\": 4, \"daily_pct_change\": -66.66666666666667, \"three_day_pct_change\": 100.0, \"weekly_pct_change\": -33.333333333333336}, {\"date\": \"2021-02-17T00:00:00\", \"symbol\": \"OCGN\", \"mention_count\": 1, \"daily_pct_change\": -75.0, \"three_day_pct_change\": -50.0, \"weekly_pct_change\": -96.66666666666667}, {\"date\": \"2021-02-17T00:00:00\", \"symbol\": \"GME\", \"mention_count\": 11, \"daily_pct_change\": -8.333333333333337, \"three_day_pct_change\": -62.06896551724138, \"weekly_pct_change\": -86.90476190476191}, {\"date\": \"2021-02-18T00:00:00\", \"symbol\": \"OCGN\", \"mention_count\": 2, \"daily_pct_change\": 100.0, \"three_day_pct_change\": 100.0, \"weekly_pct_change\": -83.33333333333334}, {\"date\": \"2021-02-18T00:00:00\", \"symbol\": \"PLTR\", \"mention_count\": 6, \"daily_pct_change\": 50.0, \"three_day_pct_change\": 500.0, \"weekly_pct_change\": 500.0}, {\"date\": \"2021-02-18T00:00:00\", \"symbol\": \"PLUG\", \"mention_count\": 3, \"daily_pct_change\": 200.0, \"three_day_pct_change\": 0.0, \"weekly_pct_change\": null}, {\"date\": \"2021-02-18T00:00:00\", \"symbol\": \"TRCH\", \"mention_count\": 2, \"daily_pct_change\": 100.0, \"three_day_pct_change\": -33.333333333333336, \"weekly_pct_change\": null}, {\"date\": \"2021-02-18T00:00:00\", \"symbol\": \"APHA\", \"mention_count\": 2, \"daily_pct_change\": 100.0, \"three_day_pct_change\": -33.333333333333336, \"weekly_pct_change\": 0.0}, {\"date\": \"2021-02-18T00:00:00\", \"symbol\": \"GME\", \"mention_count\": 20, \"daily_pct_change\": 81.81818181818181, \"three_day_pct_change\": 5.263157894736836, \"weekly_pct_change\": -71.01449275362319}]}}, {\"mode\": \"vega-lite\"});\n",
       "</script>"
      ],
      "text/plain": [
       "alt.VConcatChart(...)"
      ]
     },
     "execution_count": 22,
     "metadata": {},
     "output_type": "execute_result"
    }
   ],
   "source": [
    "plot_mentions_over_time(aggregation_df[aggregation_df.symbol.isin(list(trending_df.symbol))])"
   ]
  },
  {
   "cell_type": "markdown",
   "metadata": {},
   "source": [
    "#### Three Day Mention Growth Stocks"
   ]
  },
  {
   "cell_type": "code",
   "execution_count": 23,
   "metadata": {},
   "outputs": [],
   "source": [
    "trending_df = aggregation_df[(aggregation_df.date == aggregation_df.date.max()) & \n",
    "              (aggregation_df.three_day_pct_change > 0)].sort_values(by='mention_count', ascending=False)"
   ]
  },
  {
   "cell_type": "code",
   "execution_count": 24,
   "metadata": {},
   "outputs": [
    {
     "data": {
      "text/html": [
       "<div>\n",
       "<style scoped>\n",
       "    .dataframe tbody tr th:only-of-type {\n",
       "        vertical-align: middle;\n",
       "    }\n",
       "\n",
       "    .dataframe tbody tr th {\n",
       "        vertical-align: top;\n",
       "    }\n",
       "\n",
       "    .dataframe thead th {\n",
       "        text-align: right;\n",
       "    }\n",
       "</style>\n",
       "<table border=\"1\" class=\"dataframe\">\n",
       "  <thead>\n",
       "    <tr style=\"text-align: right;\">\n",
       "      <th></th>\n",
       "      <th>date</th>\n",
       "      <th>symbol</th>\n",
       "      <th>mention_count</th>\n",
       "      <th>daily_pct_change</th>\n",
       "      <th>three_day_pct_change</th>\n",
       "      <th>weekly_pct_change</th>\n",
       "    </tr>\n",
       "  </thead>\n",
       "  <tbody>\n",
       "    <tr>\n",
       "      <th>1382</th>\n",
       "      <td>2021-02-18</td>\n",
       "      <td>GME</td>\n",
       "      <td>20</td>\n",
       "      <td>81.818182</td>\n",
       "      <td>5.263158</td>\n",
       "      <td>-71.014493</td>\n",
       "    </tr>\n",
       "    <tr>\n",
       "      <th>1393</th>\n",
       "      <td>2021-02-18</td>\n",
       "      <td>PLTR</td>\n",
       "      <td>6</td>\n",
       "      <td>50.000000</td>\n",
       "      <td>500.000000</td>\n",
       "      <td>500.000000</td>\n",
       "    </tr>\n",
       "    <tr>\n",
       "      <th>1390</th>\n",
       "      <td>2021-02-18</td>\n",
       "      <td>OCGN</td>\n",
       "      <td>2</td>\n",
       "      <td>100.000000</td>\n",
       "      <td>100.000000</td>\n",
       "      <td>-83.333333</td>\n",
       "    </tr>\n",
       "    <tr>\n",
       "      <th>1379</th>\n",
       "      <td>2021-02-18</td>\n",
       "      <td>EH</td>\n",
       "      <td>2</td>\n",
       "      <td>0.000000</td>\n",
       "      <td>100.000000</td>\n",
       "      <td>NaN</td>\n",
       "    </tr>\n",
       "  </tbody>\n",
       "</table>\n",
       "</div>"
      ],
      "text/plain": [
       "           date symbol  mention_count  daily_pct_change  three_day_pct_change  \\\n",
       "1382 2021-02-18    GME             20         81.818182              5.263158   \n",
       "1393 2021-02-18   PLTR              6         50.000000            500.000000   \n",
       "1390 2021-02-18   OCGN              2        100.000000            100.000000   \n",
       "1379 2021-02-18     EH              2          0.000000            100.000000   \n",
       "\n",
       "      weekly_pct_change  \n",
       "1382         -71.014493  \n",
       "1393         500.000000  \n",
       "1390         -83.333333  \n",
       "1379                NaN  "
      ]
     },
     "execution_count": 24,
     "metadata": {},
     "output_type": "execute_result"
    }
   ],
   "source": [
    "trending_df"
   ]
  },
  {
   "cell_type": "code",
   "execution_count": 25,
   "metadata": {},
   "outputs": [
    {
     "data": {
      "text/html": [
       "\n",
       "<div id=\"altair-viz-c19e28bff2d1448390d8990608116713\"></div>\n",
       "<script type=\"text/javascript\">\n",
       "  (function(spec, embedOpt){\n",
       "    let outputDiv = document.currentScript.previousElementSibling;\n",
       "    if (outputDiv.id !== \"altair-viz-c19e28bff2d1448390d8990608116713\") {\n",
       "      outputDiv = document.getElementById(\"altair-viz-c19e28bff2d1448390d8990608116713\");\n",
       "    }\n",
       "    const paths = {\n",
       "      \"vega\": \"https://cdn.jsdelivr.net/npm//vega@5?noext\",\n",
       "      \"vega-lib\": \"https://cdn.jsdelivr.net/npm//vega-lib?noext\",\n",
       "      \"vega-lite\": \"https://cdn.jsdelivr.net/npm//vega-lite@4.8.1?noext\",\n",
       "      \"vega-embed\": \"https://cdn.jsdelivr.net/npm//vega-embed@6?noext\",\n",
       "    };\n",
       "\n",
       "    function loadScript(lib) {\n",
       "      return new Promise(function(resolve, reject) {\n",
       "        var s = document.createElement('script');\n",
       "        s.src = paths[lib];\n",
       "        s.async = true;\n",
       "        s.onload = () => resolve(paths[lib]);\n",
       "        s.onerror = () => reject(`Error loading script: ${paths[lib]}`);\n",
       "        document.getElementsByTagName(\"head\")[0].appendChild(s);\n",
       "      });\n",
       "    }\n",
       "\n",
       "    function showError(err) {\n",
       "      outputDiv.innerHTML = `<div class=\"error\" style=\"color:red;\">${err}</div>`;\n",
       "      throw err;\n",
       "    }\n",
       "\n",
       "    function displayChart(vegaEmbed) {\n",
       "      vegaEmbed(outputDiv, spec, embedOpt)\n",
       "        .catch(err => showError(`Javascript Error: ${err.message}<br>This usually means there's a typo in your chart specification. See the javascript console for the full traceback.`));\n",
       "    }\n",
       "\n",
       "    if(typeof define === \"function\" && define.amd) {\n",
       "      requirejs.config({paths});\n",
       "      require([\"vega-embed\"], displayChart, err => showError(`Error loading script: ${err.message}`));\n",
       "    } else if (typeof vegaEmbed === \"function\") {\n",
       "      displayChart(vegaEmbed);\n",
       "    } else {\n",
       "      loadScript(\"vega\")\n",
       "        .then(() => loadScript(\"vega-lite\"))\n",
       "        .then(() => loadScript(\"vega-embed\"))\n",
       "        .catch(showError)\n",
       "        .then(() => displayChart(vegaEmbed));\n",
       "    }\n",
       "  })({\"config\": {\"view\": {\"continuousWidth\": 400, \"continuousHeight\": 300}}, \"vconcat\": [{\"mark\": {\"type\": \"line\", \"point\": true}, \"encoding\": {\"color\": {\"type\": \"nominal\", \"field\": \"symbol\"}, \"x\": {\"type\": \"temporal\", \"field\": \"date\"}, \"y\": {\"type\": \"quantitative\", \"field\": \"mention_count\"}}, \"height\": 400, \"selection\": {\"selector004\": {\"type\": \"interval\"}}, \"width\": 800}, {\"mark\": \"rect\", \"encoding\": {\"color\": {\"type\": \"nominal\", \"field\": \"symbol\"}, \"x\": {\"type\": \"quantitative\", \"aggregate\": \"sum\", \"field\": \"mention_count\", \"sort\": \"ascending\"}, \"y\": {\"type\": \"nominal\", \"field\": \"symbol\"}}, \"height\": 200, \"transform\": [{\"filter\": {\"selection\": \"selector004\"}}], \"width\": 800}], \"data\": {\"name\": \"data-99c11696013754e6f4ec438b20d8e1a2\"}, \"$schema\": \"https://vega.github.io/schema/vega-lite/v4.8.1.json\", \"datasets\": {\"data-99c11696013754e6f4ec438b20d8e1a2\": [{\"date\": \"2021-02-07T00:00:00\", \"symbol\": \"GME\", \"mention_count\": 4, \"daily_pct_change\": null, \"three_day_pct_change\": null, \"weekly_pct_change\": null}, {\"date\": \"2021-02-08T00:00:00\", \"symbol\": \"PLTR\", \"mention_count\": 6, \"daily_pct_change\": null, \"three_day_pct_change\": null, \"weekly_pct_change\": null}, {\"date\": \"2021-02-08T00:00:00\", \"symbol\": \"OCGN\", \"mention_count\": 30, \"daily_pct_change\": null, \"three_day_pct_change\": null, \"weekly_pct_change\": null}, {\"date\": \"2021-02-08T00:00:00\", \"symbol\": \"GME\", \"mention_count\": 80, \"daily_pct_change\": 1900.0, \"three_day_pct_change\": null, \"weekly_pct_change\": null}, {\"date\": \"2021-02-09T00:00:00\", \"symbol\": \"PLTR\", \"mention_count\": 6, \"daily_pct_change\": 0.0, \"three_day_pct_change\": null, \"weekly_pct_change\": null}, {\"date\": \"2021-02-09T00:00:00\", \"symbol\": \"OCGN\", \"mention_count\": 12, \"daily_pct_change\": -60.0, \"three_day_pct_change\": null, \"weekly_pct_change\": null}, {\"date\": \"2021-02-09T00:00:00\", \"symbol\": \"GME\", \"mention_count\": 98, \"daily_pct_change\": 22.500000000000007, \"three_day_pct_change\": null, \"weekly_pct_change\": null}, {\"date\": \"2021-02-10T00:00:00\", \"symbol\": \"OCGN\", \"mention_count\": 1, \"daily_pct_change\": -91.66666666666666, \"three_day_pct_change\": null, \"weekly_pct_change\": null}, {\"date\": \"2021-02-10T00:00:00\", \"symbol\": \"PLTR\", \"mention_count\": 1, \"daily_pct_change\": -83.33333333333334, \"three_day_pct_change\": null, \"weekly_pct_change\": null}, {\"date\": \"2021-02-10T00:00:00\", \"symbol\": \"GME\", \"mention_count\": 84, \"daily_pct_change\": -14.28571428571429, \"three_day_pct_change\": 2000.0, \"weekly_pct_change\": null}, {\"date\": \"2021-02-11T00:00:00\", \"symbol\": \"PLTR\", \"mention_count\": 6, \"daily_pct_change\": 500.0, \"three_day_pct_change\": 0.0, \"weekly_pct_change\": null}, {\"date\": \"2021-02-11T00:00:00\", \"symbol\": \"OCGN\", \"mention_count\": 3, \"daily_pct_change\": 200.0, \"three_day_pct_change\": -90.0, \"weekly_pct_change\": null}, {\"date\": \"2021-02-11T00:00:00\", \"symbol\": \"GME\", \"mention_count\": 69, \"daily_pct_change\": -17.85714285714286, \"three_day_pct_change\": -13.749999999999996, \"weekly_pct_change\": null}, {\"date\": \"2021-02-11T00:00:00\", \"symbol\": \"EH\", \"mention_count\": 1, \"daily_pct_change\": null, \"three_day_pct_change\": null, \"weekly_pct_change\": null}, {\"date\": \"2021-02-12T00:00:00\", \"symbol\": \"OCGN\", \"mention_count\": 2, \"daily_pct_change\": -33.333333333333336, \"three_day_pct_change\": -83.33333333333334, \"weekly_pct_change\": null}, {\"date\": \"2021-02-12T00:00:00\", \"symbol\": \"PLTR\", \"mention_count\": 10, \"daily_pct_change\": 66.66666666666667, \"three_day_pct_change\": 66.66666666666667, \"weekly_pct_change\": null}, {\"date\": \"2021-02-12T00:00:00\", \"symbol\": \"GME\", \"mention_count\": 56, \"daily_pct_change\": -18.840579710144922, \"three_day_pct_change\": -42.85714285714286, \"weekly_pct_change\": null}, {\"date\": \"2021-02-13T00:00:00\", \"symbol\": \"PLTR\", \"mention_count\": 2, \"daily_pct_change\": -80.0, \"three_day_pct_change\": 100.0, \"weekly_pct_change\": null}, {\"date\": \"2021-02-13T00:00:00\", \"symbol\": \"OCGN\", \"mention_count\": 1, \"daily_pct_change\": -50.0, \"three_day_pct_change\": 0.0, \"weekly_pct_change\": null}, {\"date\": \"2021-02-13T00:00:00\", \"symbol\": \"GME\", \"mention_count\": 19, \"daily_pct_change\": -66.07142857142857, \"three_day_pct_change\": -77.38095238095238, \"weekly_pct_change\": null}, {\"date\": \"2021-02-14T00:00:00\", \"symbol\": \"GME\", \"mention_count\": 29, \"daily_pct_change\": 52.63157894736843, \"three_day_pct_change\": -57.971014492753625, \"weekly_pct_change\": 625.0}, {\"date\": \"2021-02-15T00:00:00\", \"symbol\": \"PLTR\", \"mention_count\": 1, \"daily_pct_change\": -50.0, \"three_day_pct_change\": -83.33333333333334, \"weekly_pct_change\": null}, {\"date\": \"2021-02-15T00:00:00\", \"symbol\": \"GME\", \"mention_count\": 19, \"daily_pct_change\": -34.48275862068966, \"three_day_pct_change\": -66.07142857142857, \"weekly_pct_change\": -76.25}, {\"date\": \"2021-02-16T00:00:00\", \"symbol\": \"PLTR\", \"mention_count\": 12, \"daily_pct_change\": 1100.0, \"three_day_pct_change\": 19.999999999999996, \"weekly_pct_change\": 100.0}, {\"date\": \"2021-02-16T00:00:00\", \"symbol\": \"OCGN\", \"mention_count\": 4, \"daily_pct_change\": 300.0, \"three_day_pct_change\": 33.33333333333333, \"weekly_pct_change\": null}, {\"date\": \"2021-02-16T00:00:00\", \"symbol\": \"GME\", \"mention_count\": 12, \"daily_pct_change\": -36.8421052631579, \"three_day_pct_change\": -36.8421052631579, \"weekly_pct_change\": -87.75510204081633}, {\"date\": \"2021-02-16T00:00:00\", \"symbol\": \"EH\", \"mention_count\": 3, \"daily_pct_change\": 200.0, \"three_day_pct_change\": null, \"weekly_pct_change\": null}, {\"date\": \"2021-02-17T00:00:00\", \"symbol\": \"PLTR\", \"mention_count\": 4, \"daily_pct_change\": -66.66666666666667, \"three_day_pct_change\": 100.0, \"weekly_pct_change\": -33.333333333333336}, {\"date\": \"2021-02-17T00:00:00\", \"symbol\": \"OCGN\", \"mention_count\": 1, \"daily_pct_change\": -75.0, \"three_day_pct_change\": -50.0, \"weekly_pct_change\": -96.66666666666667}, {\"date\": \"2021-02-17T00:00:00\", \"symbol\": \"EH\", \"mention_count\": 2, \"daily_pct_change\": -33.333333333333336, \"three_day_pct_change\": null, \"weekly_pct_change\": null}, {\"date\": \"2021-02-17T00:00:00\", \"symbol\": \"GME\", \"mention_count\": 11, \"daily_pct_change\": -8.333333333333337, \"three_day_pct_change\": -62.06896551724138, \"weekly_pct_change\": -86.90476190476191}, {\"date\": \"2021-02-18T00:00:00\", \"symbol\": \"OCGN\", \"mention_count\": 2, \"daily_pct_change\": 100.0, \"three_day_pct_change\": 100.0, \"weekly_pct_change\": -83.33333333333334}, {\"date\": \"2021-02-18T00:00:00\", \"symbol\": \"PLTR\", \"mention_count\": 6, \"daily_pct_change\": 50.0, \"three_day_pct_change\": 500.0, \"weekly_pct_change\": 500.0}, {\"date\": \"2021-02-18T00:00:00\", \"symbol\": \"EH\", \"mention_count\": 2, \"daily_pct_change\": 0.0, \"three_day_pct_change\": 100.0, \"weekly_pct_change\": null}, {\"date\": \"2021-02-18T00:00:00\", \"symbol\": \"GME\", \"mention_count\": 20, \"daily_pct_change\": 81.81818181818181, \"three_day_pct_change\": 5.263157894736836, \"weekly_pct_change\": -71.01449275362319}]}}, {\"mode\": \"vega-lite\"});\n",
       "</script>"
      ],
      "text/plain": [
       "alt.VConcatChart(...)"
      ]
     },
     "execution_count": 25,
     "metadata": {},
     "output_type": "execute_result"
    }
   ],
   "source": [
    "plot_mentions_over_time(aggregation_df[aggregation_df.symbol.isin(list(trending_df.symbol))])"
   ]
  }
 ],
 "metadata": {
  "kernelspec": {
   "display_name": "wsb_env",
   "language": "python",
   "name": "wsb_env"
  },
  "language_info": {
   "codemirror_mode": {
    "name": "ipython",
    "version": 3
   },
   "file_extension": ".py",
   "mimetype": "text/x-python",
   "name": "python",
   "nbconvert_exporter": "python",
   "pygments_lexer": "ipython3",
   "version": "3.8.5"
  },
  "toc": {
   "base_numbering": 1,
   "nav_menu": {},
   "number_sections": true,
   "sideBar": true,
   "skip_h1_title": false,
   "title_cell": "Table of Contents",
   "title_sidebar": "Contents",
   "toc_cell": false,
   "toc_position": {},
   "toc_section_display": true,
   "toc_window_display": false
  }
 },
 "nbformat": 4,
 "nbformat_minor": 4
}
